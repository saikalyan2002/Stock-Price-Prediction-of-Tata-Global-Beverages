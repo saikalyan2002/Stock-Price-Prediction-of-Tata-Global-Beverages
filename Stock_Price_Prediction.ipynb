{
 "cells": [
  {
   "cell_type": "markdown",
   "id": "23a05e23",
   "metadata": {},
   "source": [
    "# Stock Price Prediction Using Machine Learning Algorithms\n",
    "Predicting the future direction of stock prices is a difficult task. The prices depends on many factors like the market's opinion about a stock, latest announcements, etc. We will use machine learning to use this information and try to predict the stock prices.<br>\n",
    "The methods used are:-\n",
    "1. Moving Average\n",
    "2. Linear Regression\n",
    "3. K-Nearest Neighbors\n",
    "4. Auto Arima\n",
    "5. Long short term memory"
   ]
  },
  {
   "cell_type": "markdown",
   "id": "c466e3a5",
   "metadata": {},
   "source": [
    "### Import libraries"
   ]
  },
  {
   "cell_type": "code",
   "execution_count": 1,
   "id": "d78cbeb3",
   "metadata": {},
   "outputs": [],
   "source": [
    "import pandas as pd\n",
    "import numpy as np\n",
    "import matplotlib.pyplot as plt\n",
    "from matplotlib.pylab import rcParams\n",
    "rcParams['figure.figsize'] = 20,10"
   ]
  },
  {
   "cell_type": "code",
   "execution_count": 2,
   "id": "c2bc8393",
   "metadata": {},
   "outputs": [
    {
     "data": {
      "text/html": [
       "<div>\n",
       "<style scoped>\n",
       "    .dataframe tbody tr th:only-of-type {\n",
       "        vertical-align: middle;\n",
       "    }\n",
       "\n",
       "    .dataframe tbody tr th {\n",
       "        vertical-align: top;\n",
       "    }\n",
       "\n",
       "    .dataframe thead th {\n",
       "        text-align: right;\n",
       "    }\n",
       "</style>\n",
       "<table border=\"1\" class=\"dataframe\">\n",
       "  <thead>\n",
       "    <tr style=\"text-align: right;\">\n",
       "      <th></th>\n",
       "      <th>Date</th>\n",
       "      <th>Open</th>\n",
       "      <th>High</th>\n",
       "      <th>Low</th>\n",
       "      <th>Last</th>\n",
       "      <th>Close</th>\n",
       "      <th>Total Trade Quantity</th>\n",
       "      <th>Turnover (Lacs)</th>\n",
       "    </tr>\n",
       "  </thead>\n",
       "  <tbody>\n",
       "    <tr>\n",
       "      <th>0</th>\n",
       "      <td>2018-10-08</td>\n",
       "      <td>208.00</td>\n",
       "      <td>222.25</td>\n",
       "      <td>206.85</td>\n",
       "      <td>216.00</td>\n",
       "      <td>215.15</td>\n",
       "      <td>4642146.0</td>\n",
       "      <td>10062.83</td>\n",
       "    </tr>\n",
       "    <tr>\n",
       "      <th>1</th>\n",
       "      <td>2018-10-05</td>\n",
       "      <td>217.00</td>\n",
       "      <td>218.60</td>\n",
       "      <td>205.90</td>\n",
       "      <td>210.25</td>\n",
       "      <td>209.20</td>\n",
       "      <td>3519515.0</td>\n",
       "      <td>7407.06</td>\n",
       "    </tr>\n",
       "    <tr>\n",
       "      <th>2</th>\n",
       "      <td>2018-10-04</td>\n",
       "      <td>223.50</td>\n",
       "      <td>227.80</td>\n",
       "      <td>216.15</td>\n",
       "      <td>217.25</td>\n",
       "      <td>218.20</td>\n",
       "      <td>1728786.0</td>\n",
       "      <td>3815.79</td>\n",
       "    </tr>\n",
       "    <tr>\n",
       "      <th>3</th>\n",
       "      <td>2018-10-03</td>\n",
       "      <td>230.00</td>\n",
       "      <td>237.50</td>\n",
       "      <td>225.75</td>\n",
       "      <td>226.45</td>\n",
       "      <td>227.60</td>\n",
       "      <td>1708590.0</td>\n",
       "      <td>3960.27</td>\n",
       "    </tr>\n",
       "    <tr>\n",
       "      <th>4</th>\n",
       "      <td>2018-10-01</td>\n",
       "      <td>234.55</td>\n",
       "      <td>234.60</td>\n",
       "      <td>221.05</td>\n",
       "      <td>230.30</td>\n",
       "      <td>230.90</td>\n",
       "      <td>1534749.0</td>\n",
       "      <td>3486.05</td>\n",
       "    </tr>\n",
       "  </tbody>\n",
       "</table>\n",
       "</div>"
      ],
      "text/plain": [
       "         Date    Open    High     Low    Last   Close  Total Trade Quantity  \\\n",
       "0  2018-10-08  208.00  222.25  206.85  216.00  215.15             4642146.0   \n",
       "1  2018-10-05  217.00  218.60  205.90  210.25  209.20             3519515.0   \n",
       "2  2018-10-04  223.50  227.80  216.15  217.25  218.20             1728786.0   \n",
       "3  2018-10-03  230.00  237.50  225.75  226.45  227.60             1708590.0   \n",
       "4  2018-10-01  234.55  234.60  221.05  230.30  230.90             1534749.0   \n",
       "\n",
       "   Turnover (Lacs)  \n",
       "0         10062.83  \n",
       "1          7407.06  \n",
       "2          3815.79  \n",
       "3          3960.27  \n",
       "4          3486.05  "
      ]
     },
     "execution_count": 2,
     "metadata": {},
     "output_type": "execute_result"
    }
   ],
   "source": [
    "from sklearn.preprocessing import MinMaxScaler\n",
    "scaler = MinMaxScaler(feature_range=(0,1))\n",
    "df = pd.read_csv('NSE-TATAGLOBAL11.csv')\n",
    "df.head()"
   ]
  },
  {
   "cell_type": "markdown",
   "id": "ff8141e9",
   "metadata": {},
   "source": [
    "Closing price is the weighted average price of the last 30 mins of trading, whereas 'Last' is the last traded price of the stock on that day.<br>\n",
    "1. Total Trade Quantity is the number of shares bought or sold in the day.\n",
    "2. Turnover is the turnover of the particular company."
   ]
  },
  {
   "cell_type": "code",
   "execution_count": 3,
   "id": "5ebddd40",
   "metadata": {},
   "outputs": [],
   "source": [
    "df['Date'] = pd.to_datetime(df.Date,format='%Y-%m-%d')"
   ]
  },
  {
   "cell_type": "code",
   "execution_count": 4,
   "id": "84b13140",
   "metadata": {},
   "outputs": [],
   "source": [
    "df.index = df['Date']"
   ]
  },
  {
   "cell_type": "code",
   "execution_count": 5,
   "id": "f5edf2e3",
   "metadata": {},
   "outputs": [
    {
     "data": {
      "text/plain": [
       "[<matplotlib.lines.Line2D at 0x1aaf01e9220>]"
      ]
     },
     "execution_count": 5,
     "metadata": {},
     "output_type": "execute_result"
    },
    {
     "data": {
      "image/png": "[encoded data removed]",
      "text/plain": [
       "<Figure size 1152x576 with 1 Axes>"
      ]
     },
     "metadata": {
      "needs_background": "light"
     },
     "output_type": "display_data"
    }
   ],
   "source": [
    "plt.figure(figsize=(16,8))\n",
    "plt.plot(df['Open'],label='Opening prices')"
   ]
  },
  {
   "cell_type": "markdown",
   "id": "0e45ecd2",
   "metadata": {},
   "source": [
    "# Technical Indicators"
   ]
  },
  {
   "cell_type": "code",
   "execution_count": 6,
   "id": "8af17a77",
   "metadata": {},
   "outputs": [],
   "source": [
    "def technical_indicators(dataset):\n",
    "    dataset['26ema'] = dataset['Close'].ewm(span=26).mean()\n",
    "    dataset['12ema'] = dataset['Close'].ewm(span=12).mean()\n",
    "    dataset['MACD'] = (dataset['12ema']-dataset['26ema'])"
   ]
  },
  {
   "cell_type": "markdown",
   "id": "3c078fdb",
   "metadata": {},
   "source": [
    "# Moving Average"
   ]
  },
  {
   "cell_type": "code",
   "execution_count": 7,
   "id": "6d7ae181",
   "metadata": {},
   "outputs": [],
   "source": [
    "data = df.sort_index(ascending=True,axis=0)"
   ]
  },
  {
   "cell_type": "code",
   "execution_count": 8,
   "id": "6f698b38",
   "metadata": {},
   "outputs": [
    {
     "data": {
      "text/html": [
       "<div>\n",
       "<style scoped>\n",
       "    .dataframe tbody tr th:only-of-type {\n",
       "        vertical-align: middle;\n",
       "    }\n",
       "\n",
       "    .dataframe tbody tr th {\n",
       "        vertical-align: top;\n",
       "    }\n",
       "\n",
       "    .dataframe thead th {\n",
       "        text-align: right;\n",
       "    }\n",
       "</style>\n",
       "<table border=\"1\" class=\"dataframe\">\n",
       "  <thead>\n",
       "    <tr style=\"text-align: right;\">\n",
       "      <th></th>\n",
       "      <th>Date</th>\n",
       "      <th>Open</th>\n",
       "      <th>High</th>\n",
       "      <th>Low</th>\n",
       "      <th>Last</th>\n",
       "      <th>Close</th>\n",
       "      <th>Total Trade Quantity</th>\n",
       "      <th>Turnover (Lacs)</th>\n",
       "    </tr>\n",
       "    <tr>\n",
       "      <th>Date</th>\n",
       "      <th></th>\n",
       "      <th></th>\n",
       "      <th></th>\n",
       "      <th></th>\n",
       "      <th></th>\n",
       "      <th></th>\n",
       "      <th></th>\n",
       "      <th></th>\n",
       "    </tr>\n",
       "  </thead>\n",
       "  <tbody>\n",
       "    <tr>\n",
       "      <th>2013-10-08</th>\n",
       "      <td>2013-10-08</td>\n",
       "      <td>157.00</td>\n",
       "      <td>157.80</td>\n",
       "      <td>155.20</td>\n",
       "      <td>155.8</td>\n",
       "      <td>155.80</td>\n",
       "      <td>1720413.0</td>\n",
       "      <td>2688.94</td>\n",
       "    </tr>\n",
       "    <tr>\n",
       "      <th>2013-10-09</th>\n",
       "      <td>2013-10-09</td>\n",
       "      <td>155.70</td>\n",
       "      <td>158.20</td>\n",
       "      <td>154.15</td>\n",
       "      <td>155.3</td>\n",
       "      <td>155.55</td>\n",
       "      <td>2049580.0</td>\n",
       "      <td>3204.49</td>\n",
       "    </tr>\n",
       "    <tr>\n",
       "      <th>2013-10-10</th>\n",
       "      <td>2013-10-10</td>\n",
       "      <td>156.00</td>\n",
       "      <td>160.80</td>\n",
       "      <td>155.85</td>\n",
       "      <td>160.3</td>\n",
       "      <td>160.15</td>\n",
       "      <td>3124853.0</td>\n",
       "      <td>4978.80</td>\n",
       "    </tr>\n",
       "    <tr>\n",
       "      <th>2013-10-11</th>\n",
       "      <td>2013-10-11</td>\n",
       "      <td>161.15</td>\n",
       "      <td>163.45</td>\n",
       "      <td>159.00</td>\n",
       "      <td>159.8</td>\n",
       "      <td>160.05</td>\n",
       "      <td>1880046.0</td>\n",
       "      <td>3030.76</td>\n",
       "    </tr>\n",
       "    <tr>\n",
       "      <th>2013-10-14</th>\n",
       "      <td>2013-10-14</td>\n",
       "      <td>160.85</td>\n",
       "      <td>161.45</td>\n",
       "      <td>157.70</td>\n",
       "      <td>159.3</td>\n",
       "      <td>159.45</td>\n",
       "      <td>1281419.0</td>\n",
       "      <td>2039.09</td>\n",
       "    </tr>\n",
       "  </tbody>\n",
       "</table>\n",
       "</div>"
      ],
      "text/plain": [
       "                 Date    Open    High     Low   Last   Close  \\\n",
       "Date                                                           \n",
       "2013-10-08 2013-10-08  157.00  157.80  155.20  155.8  155.80   \n",
       "2013-10-09 2013-10-09  155.70  158.20  154.15  155.3  155.55   \n",
       "2013-10-10 2013-10-10  156.00  160.80  155.85  160.3  160.15   \n",
       "2013-10-11 2013-10-11  161.15  163.45  159.00  159.8  160.05   \n",
       "2013-10-14 2013-10-14  160.85  161.45  157.70  159.3  159.45   \n",
       "\n",
       "            Total Trade Quantity  Turnover (Lacs)  \n",
       "Date                                               \n",
       "2013-10-08             1720413.0          2688.94  \n",
       "2013-10-09             2049580.0          3204.49  \n",
       "2013-10-10             3124853.0          4978.80  \n",
       "2013-10-11             1880046.0          3030.76  \n",
       "2013-10-14             1281419.0          2039.09  "
      ]
     },
     "execution_count": 8,
     "metadata": {},
     "output_type": "execute_result"
    }
   ],
   "source": [
    "data.head()"
   ]
  },
  {
   "cell_type": "code",
   "execution_count": 9,
   "id": "191b455d",
   "metadata": {},
   "outputs": [],
   "source": [
    "new_data = pd.DataFrame(index=range(0,len(df)),columns=['Date','Open'])"
   ]
  },
  {
   "cell_type": "code",
   "execution_count": 10,
   "id": "71341142",
   "metadata": {},
   "outputs": [],
   "source": [
    "for i in range(0,len(data)):\n",
    "    new_data['Date'][i] = data['Date'][i]\n",
    "    new_data['Open'][i] = data['Open'][i]"
   ]
  },
  {
   "cell_type": "code",
   "execution_count": 11,
   "id": "bc1e4778",
   "metadata": {},
   "outputs": [],
   "source": [
    "train = new_data[:987].copy()\n",
    "valid = new_data[987:].copy()"
   ]
  },
  {
   "cell_type": "code",
   "execution_count": 12,
   "id": "3eb6c77d",
   "metadata": {},
   "outputs": [
    {
     "data": {
      "text/plain": [
       "(987, 2)"
      ]
     },
     "execution_count": 12,
     "metadata": {},
     "output_type": "execute_result"
    }
   ],
   "source": [
    "train.shape"
   ]
  },
  {
   "cell_type": "code",
   "execution_count": 13,
   "id": "0ab075eb",
   "metadata": {},
   "outputs": [
    {
     "data": {
      "text/plain": [
       "(248, 2)"
      ]
     },
     "execution_count": 13,
     "metadata": {},
     "output_type": "execute_result"
    }
   ],
   "source": [
    "valid.shape"
   ]
  },
  {
   "cell_type": "code",
   "execution_count": 14,
   "id": "4bc449bf",
   "metadata": {},
   "outputs": [],
   "source": [
    "preds = []\n",
    "for i in range(0,valid.shape[0]):\n",
    "    a = train['Open'][len(train)-248+i:].sum() + sum(preds)\n",
    "    b = a/248\n",
    "    preds.append(b)"
   ]
  },
  {
   "cell_type": "code",
   "execution_count": 15,
   "id": "29023b00",
   "metadata": {},
   "outputs": [
    {
     "name": "stdout",
     "output_type": "stream",
     "text": [
      "\n",
      " RMSE value on validation set:\n",
      "104.54621082875627\n"
     ]
    }
   ],
   "source": [
    "rms = np.sqrt(np.mean(np.power((np.array(valid['Open'])-preds),2)))\n",
    "print('\\n RMSE value on validation set:')\n",
    "print(rms)"
   ]
  },
  {
   "cell_type": "code",
   "execution_count": 16,
   "id": "b7528d15",
   "metadata": {},
   "outputs": [
    {
     "data": {
      "text/plain": [
       "[<matplotlib.lines.Line2D at 0x1aaf02f0e80>,\n",
       " <matplotlib.lines.Line2D at 0x1aaf02f0f10>]"
      ]
     },
     "execution_count": 16,
     "metadata": {},
     "output_type": "execute_result"
    },
    {
     "data": {
      "image/png": "[encoded data removed]",
      "text/plain": [
       "<Figure size 1440x720 with 1 Axes>"
      ]
     },
     "metadata": {
      "needs_background": "light"
     },
     "output_type": "display_data"
    }
   ],
   "source": [
    "valid['Predictions'] = 0\n",
    "valid['Predictions'] = preds\n",
    "plt.plot(train['Open'],label='Train')\n",
    "plt.plot(valid[['Open','Predictions']],label='Valid')"
   ]
  },
  {
   "cell_type": "markdown",
   "id": "aabd1930",
   "metadata": {},
   "source": [
    "# Linear Regression"
   ]
  },
  {
   "cell_type": "code",
   "execution_count": 17,
   "id": "c465f330",
   "metadata": {},
   "outputs": [],
   "source": [
    "df['Date'] = pd.to_datetime(df.Date,format='%Y-%m-%d')\n",
    "df.index = df['Date']"
   ]
  },
  {
   "cell_type": "code",
   "execution_count": 18,
   "id": "5b6f7dad",
   "metadata": {},
   "outputs": [],
   "source": [
    "data = df.sort_index(ascending=True, axis=0)"
   ]
  },
  {
   "cell_type": "code",
   "execution_count": 19,
   "id": "6de3c9c2",
   "metadata": {},
   "outputs": [
    {
     "data": {
      "text/html": [
       "<div>\n",
       "<style scoped>\n",
       "    .dataframe tbody tr th:only-of-type {\n",
       "        vertical-align: middle;\n",
       "    }\n",
       "\n",
       "    .dataframe tbody tr th {\n",
       "        vertical-align: top;\n",
       "    }\n",
       "\n",
       "    .dataframe thead th {\n",
       "        text-align: right;\n",
       "    }\n",
       "</style>\n",
       "<table border=\"1\" class=\"dataframe\">\n",
       "  <thead>\n",
       "    <tr style=\"text-align: right;\">\n",
       "      <th></th>\n",
       "      <th>Date</th>\n",
       "      <th>Open</th>\n",
       "      <th>High</th>\n",
       "      <th>Low</th>\n",
       "      <th>Last</th>\n",
       "      <th>Close</th>\n",
       "      <th>Total Trade Quantity</th>\n",
       "      <th>Turnover (Lacs)</th>\n",
       "    </tr>\n",
       "    <tr>\n",
       "      <th>Date</th>\n",
       "      <th></th>\n",
       "      <th></th>\n",
       "      <th></th>\n",
       "      <th></th>\n",
       "      <th></th>\n",
       "      <th></th>\n",
       "      <th></th>\n",
       "      <th></th>\n",
       "    </tr>\n",
       "  </thead>\n",
       "  <tbody>\n",
       "    <tr>\n",
       "      <th>2013-10-08</th>\n",
       "      <td>2013-10-08</td>\n",
       "      <td>157.00</td>\n",
       "      <td>157.80</td>\n",
       "      <td>155.20</td>\n",
       "      <td>155.8</td>\n",
       "      <td>155.80</td>\n",
       "      <td>1720413.0</td>\n",
       "      <td>2688.94</td>\n",
       "    </tr>\n",
       "    <tr>\n",
       "      <th>2013-10-09</th>\n",
       "      <td>2013-10-09</td>\n",
       "      <td>155.70</td>\n",
       "      <td>158.20</td>\n",
       "      <td>154.15</td>\n",
       "      <td>155.3</td>\n",
       "      <td>155.55</td>\n",
       "      <td>2049580.0</td>\n",
       "      <td>3204.49</td>\n",
       "    </tr>\n",
       "    <tr>\n",
       "      <th>2013-10-10</th>\n",
       "      <td>2013-10-10</td>\n",
       "      <td>156.00</td>\n",
       "      <td>160.80</td>\n",
       "      <td>155.85</td>\n",
       "      <td>160.3</td>\n",
       "      <td>160.15</td>\n",
       "      <td>3124853.0</td>\n",
       "      <td>4978.80</td>\n",
       "    </tr>\n",
       "    <tr>\n",
       "      <th>2013-10-11</th>\n",
       "      <td>2013-10-11</td>\n",
       "      <td>161.15</td>\n",
       "      <td>163.45</td>\n",
       "      <td>159.00</td>\n",
       "      <td>159.8</td>\n",
       "      <td>160.05</td>\n",
       "      <td>1880046.0</td>\n",
       "      <td>3030.76</td>\n",
       "    </tr>\n",
       "    <tr>\n",
       "      <th>2013-10-14</th>\n",
       "      <td>2013-10-14</td>\n",
       "      <td>160.85</td>\n",
       "      <td>161.45</td>\n",
       "      <td>157.70</td>\n",
       "      <td>159.3</td>\n",
       "      <td>159.45</td>\n",
       "      <td>1281419.0</td>\n",
       "      <td>2039.09</td>\n",
       "    </tr>\n",
       "  </tbody>\n",
       "</table>\n",
       "</div>"
      ],
      "text/plain": [
       "                 Date    Open    High     Low   Last   Close  \\\n",
       "Date                                                           \n",
       "2013-10-08 2013-10-08  157.00  157.80  155.20  155.8  155.80   \n",
       "2013-10-09 2013-10-09  155.70  158.20  154.15  155.3  155.55   \n",
       "2013-10-10 2013-10-10  156.00  160.80  155.85  160.3  160.15   \n",
       "2013-10-11 2013-10-11  161.15  163.45  159.00  159.8  160.05   \n",
       "2013-10-14 2013-10-14  160.85  161.45  157.70  159.3  159.45   \n",
       "\n",
       "            Total Trade Quantity  Turnover (Lacs)  \n",
       "Date                                               \n",
       "2013-10-08             1720413.0          2688.94  \n",
       "2013-10-09             2049580.0          3204.49  \n",
       "2013-10-10             3124853.0          4978.80  \n",
       "2013-10-11             1880046.0          3030.76  \n",
       "2013-10-14             1281419.0          2039.09  "
      ]
     },
     "execution_count": 19,
     "metadata": {},
     "output_type": "execute_result"
    }
   ],
   "source": [
    "data.head()"
   ]
  },
  {
   "cell_type": "code",
   "execution_count": 20,
   "id": "a2800f6d",
   "metadata": {},
   "outputs": [
    {
     "data": {
      "text/html": [
       "<div>\n",
       "<style scoped>\n",
       "    .dataframe tbody tr th:only-of-type {\n",
       "        vertical-align: middle;\n",
       "    }\n",
       "\n",
       "    .dataframe tbody tr th {\n",
       "        vertical-align: top;\n",
       "    }\n",
       "\n",
       "    .dataframe thead th {\n",
       "        text-align: right;\n",
       "    }\n",
       "</style>\n",
       "<table border=\"1\" class=\"dataframe\">\n",
       "  <thead>\n",
       "    <tr style=\"text-align: right;\">\n",
       "      <th></th>\n",
       "      <th>Date</th>\n",
       "      <th>Open</th>\n",
       "      <th>High</th>\n",
       "      <th>Low</th>\n",
       "      <th>Last</th>\n",
       "      <th>Close</th>\n",
       "      <th>Total Trade Quantity</th>\n",
       "      <th>Turnover (Lacs)</th>\n",
       "      <th>26ema</th>\n",
       "      <th>12ema</th>\n",
       "      <th>MACD</th>\n",
       "    </tr>\n",
       "    <tr>\n",
       "      <th>Date</th>\n",
       "      <th></th>\n",
       "      <th></th>\n",
       "      <th></th>\n",
       "      <th></th>\n",
       "      <th></th>\n",
       "      <th></th>\n",
       "      <th></th>\n",
       "      <th></th>\n",
       "      <th></th>\n",
       "      <th></th>\n",
       "      <th></th>\n",
       "    </tr>\n",
       "  </thead>\n",
       "  <tbody>\n",
       "    <tr>\n",
       "      <th>2013-10-08</th>\n",
       "      <td>2013-10-08</td>\n",
       "      <td>157.00</td>\n",
       "      <td>157.80</td>\n",
       "      <td>155.20</td>\n",
       "      <td>155.8</td>\n",
       "      <td>155.80</td>\n",
       "      <td>1720413.0</td>\n",
       "      <td>2688.94</td>\n",
       "      <td>155.800000</td>\n",
       "      <td>155.800000</td>\n",
       "      <td>0.000000</td>\n",
       "    </tr>\n",
       "    <tr>\n",
       "      <th>2013-10-09</th>\n",
       "      <td>2013-10-09</td>\n",
       "      <td>155.70</td>\n",
       "      <td>158.20</td>\n",
       "      <td>154.15</td>\n",
       "      <td>155.3</td>\n",
       "      <td>155.55</td>\n",
       "      <td>2049580.0</td>\n",
       "      <td>3204.49</td>\n",
       "      <td>155.670192</td>\n",
       "      <td>155.664583</td>\n",
       "      <td>-0.005609</td>\n",
       "    </tr>\n",
       "    <tr>\n",
       "      <th>2013-10-10</th>\n",
       "      <td>2013-10-10</td>\n",
       "      <td>156.00</td>\n",
       "      <td>160.80</td>\n",
       "      <td>155.85</td>\n",
       "      <td>160.3</td>\n",
       "      <td>160.15</td>\n",
       "      <td>3124853.0</td>\n",
       "      <td>4978.80</td>\n",
       "      <td>157.279744</td>\n",
       "      <td>157.415242</td>\n",
       "      <td>0.135499</td>\n",
       "    </tr>\n",
       "    <tr>\n",
       "      <th>2013-10-11</th>\n",
       "      <td>2013-10-11</td>\n",
       "      <td>161.15</td>\n",
       "      <td>163.45</td>\n",
       "      <td>159.00</td>\n",
       "      <td>159.8</td>\n",
       "      <td>160.05</td>\n",
       "      <td>1880046.0</td>\n",
       "      <td>3030.76</td>\n",
       "      <td>158.054186</td>\n",
       "      <td>158.246932</td>\n",
       "      <td>0.192746</td>\n",
       "    </tr>\n",
       "    <tr>\n",
       "      <th>2013-10-14</th>\n",
       "      <td>2013-10-14</td>\n",
       "      <td>160.85</td>\n",
       "      <td>161.45</td>\n",
       "      <td>157.70</td>\n",
       "      <td>159.3</td>\n",
       "      <td>159.45</td>\n",
       "      <td>1281419.0</td>\n",
       "      <td>2039.09</td>\n",
       "      <td>158.377881</td>\n",
       "      <td>158.573802</td>\n",
       "      <td>0.195920</td>\n",
       "    </tr>\n",
       "  </tbody>\n",
       "</table>\n",
       "</div>"
      ],
      "text/plain": [
       "                 Date    Open    High     Low   Last   Close  \\\n",
       "Date                                                           \n",
       "2013-10-08 2013-10-08  157.00  157.80  155.20  155.8  155.80   \n",
       "2013-10-09 2013-10-09  155.70  158.20  154.15  155.3  155.55   \n",
       "2013-10-10 2013-10-10  156.00  160.80  155.85  160.3  160.15   \n",
       "2013-10-11 2013-10-11  161.15  163.45  159.00  159.8  160.05   \n",
       "2013-10-14 2013-10-14  160.85  161.45  157.70  159.3  159.45   \n",
       "\n",
       "            Total Trade Quantity  Turnover (Lacs)       26ema       12ema  \\\n",
       "Date                                                                        \n",
       "2013-10-08             1720413.0          2688.94  155.800000  155.800000   \n",
       "2013-10-09             2049580.0          3204.49  155.670192  155.664583   \n",
       "2013-10-10             3124853.0          4978.80  157.279744  157.415242   \n",
       "2013-10-11             1880046.0          3030.76  158.054186  158.246932   \n",
       "2013-10-14             1281419.0          2039.09  158.377881  158.573802   \n",
       "\n",
       "                MACD  \n",
       "Date                  \n",
       "2013-10-08  0.000000  \n",
       "2013-10-09 -0.005609  \n",
       "2013-10-10  0.135499  \n",
       "2013-10-11  0.192746  \n",
       "2013-10-14  0.195920  "
      ]
     },
     "execution_count": 20,
     "metadata": {},
     "output_type": "execute_result"
    }
   ],
   "source": [
    "technical_indicators(data)\n",
    "data.head()"
   ]
  },
  {
   "cell_type": "code",
   "execution_count": 21,
   "id": "0373f563",
   "metadata": {},
   "outputs": [],
   "source": [
    "new_data = pd.DataFrame(index=range(0,len(df)),columns=['Date', 'Open', 'High','Low','Last','Close','26ema','12ema','MACD'])"
   ]
  },
  {
   "cell_type": "code",
   "execution_count": 22,
   "id": "679dcd88",
   "metadata": {},
   "outputs": [],
   "source": [
    "for i in range(0,len(data)):\n",
    "    new_data['Date'][i] = data['Date'][i]\n",
    "    new_data['High'][i] = data['High'][i]\n",
    "    new_data['Low'][i] = data['Low'][i]\n",
    "    new_data['Last'][i] = data['Last'][i]\n",
    "    new_data['Close'][i] = data['Close'][i]\n",
    "    new_data['26ema'][i] = data['26ema'][i]\n",
    "    new_data['12ema'][i] = data['12ema'][i]\n",
    "    new_data['MACD'][i] = data['MACD'][i]\n",
    "    new_data['Open'][i] = data['Open'][i]"
   ]
  },
  {
   "cell_type": "code",
   "execution_count": 23,
   "id": "c6062f84",
   "metadata": {},
   "outputs": [
    {
     "data": {
      "text/html": [
       "<div>\n",
       "<style scoped>\n",
       "    .dataframe tbody tr th:only-of-type {\n",
       "        vertical-align: middle;\n",
       "    }\n",
       "\n",
       "    .dataframe tbody tr th {\n",
       "        vertical-align: top;\n",
       "    }\n",
       "\n",
       "    .dataframe thead th {\n",
       "        text-align: right;\n",
       "    }\n",
       "</style>\n",
       "<table border=\"1\" class=\"dataframe\">\n",
       "  <thead>\n",
       "    <tr style=\"text-align: right;\">\n",
       "      <th></th>\n",
       "      <th>Date</th>\n",
       "      <th>Open</th>\n",
       "      <th>High</th>\n",
       "      <th>Low</th>\n",
       "      <th>Last</th>\n",
       "      <th>Close</th>\n",
       "      <th>26ema</th>\n",
       "      <th>12ema</th>\n",
       "      <th>MACD</th>\n",
       "    </tr>\n",
       "  </thead>\n",
       "  <tbody>\n",
       "    <tr>\n",
       "      <th>0</th>\n",
       "      <td>2013-10-08 00:00:00</td>\n",
       "      <td>157.0</td>\n",
       "      <td>157.8</td>\n",
       "      <td>155.2</td>\n",
       "      <td>155.8</td>\n",
       "      <td>155.8</td>\n",
       "      <td>155.8</td>\n",
       "      <td>155.8</td>\n",
       "      <td>0.0</td>\n",
       "    </tr>\n",
       "    <tr>\n",
       "      <th>1</th>\n",
       "      <td>2013-10-09 00:00:00</td>\n",
       "      <td>155.7</td>\n",
       "      <td>158.2</td>\n",
       "      <td>154.15</td>\n",
       "      <td>155.3</td>\n",
       "      <td>155.55</td>\n",
       "      <td>155.670192</td>\n",
       "      <td>155.664583</td>\n",
       "      <td>-0.005609</td>\n",
       "    </tr>\n",
       "    <tr>\n",
       "      <th>2</th>\n",
       "      <td>2013-10-10 00:00:00</td>\n",
       "      <td>156.0</td>\n",
       "      <td>160.8</td>\n",
       "      <td>155.85</td>\n",
       "      <td>160.3</td>\n",
       "      <td>160.15</td>\n",
       "      <td>157.279744</td>\n",
       "      <td>157.415242</td>\n",
       "      <td>0.135499</td>\n",
       "    </tr>\n",
       "    <tr>\n",
       "      <th>3</th>\n",
       "      <td>2013-10-11 00:00:00</td>\n",
       "      <td>161.15</td>\n",
       "      <td>163.45</td>\n",
       "      <td>159.0</td>\n",
       "      <td>159.8</td>\n",
       "      <td>160.05</td>\n",
       "      <td>158.054186</td>\n",
       "      <td>158.246932</td>\n",
       "      <td>0.192746</td>\n",
       "    </tr>\n",
       "    <tr>\n",
       "      <th>4</th>\n",
       "      <td>2013-10-14 00:00:00</td>\n",
       "      <td>160.85</td>\n",
       "      <td>161.45</td>\n",
       "      <td>157.7</td>\n",
       "      <td>159.3</td>\n",
       "      <td>159.45</td>\n",
       "      <td>158.377881</td>\n",
       "      <td>158.573802</td>\n",
       "      <td>0.19592</td>\n",
       "    </tr>\n",
       "  </tbody>\n",
       "</table>\n",
       "</div>"
      ],
      "text/plain": [
       "                  Date    Open    High     Low   Last   Close       26ema  \\\n",
       "0  2013-10-08 00:00:00   157.0   157.8   155.2  155.8   155.8       155.8   \n",
       "1  2013-10-09 00:00:00   155.7   158.2  154.15  155.3  155.55  155.670192   \n",
       "2  2013-10-10 00:00:00   156.0   160.8  155.85  160.3  160.15  157.279744   \n",
       "3  2013-10-11 00:00:00  161.15  163.45   159.0  159.8  160.05  158.054186   \n",
       "4  2013-10-14 00:00:00  160.85  161.45   157.7  159.3  159.45  158.377881   \n",
       "\n",
       "        12ema      MACD  \n",
       "0       155.8       0.0  \n",
       "1  155.664583 -0.005609  \n",
       "2  157.415242  0.135499  \n",
       "3  158.246932  0.192746  \n",
       "4  158.573802   0.19592  "
      ]
     },
     "execution_count": 23,
     "metadata": {},
     "output_type": "execute_result"
    }
   ],
   "source": [
    "new_data.head()"
   ]
  },
  {
   "cell_type": "code",
   "execution_count": 24,
   "id": "55c5f004",
   "metadata": {},
   "outputs": [],
   "source": [
    "new_data.index = new_data['Date']"
   ]
  },
  {
   "cell_type": "code",
   "execution_count": 25,
   "id": "0e76eb18",
   "metadata": {},
   "outputs": [],
   "source": [
    "new_data.drop('Date',axis=1,inplace=True)"
   ]
  },
  {
   "cell_type": "code",
   "execution_count": 26,
   "id": "232801cf",
   "metadata": {},
   "outputs": [],
   "source": [
    "train = new_data[:987].copy()\n",
    "valid = new_data[987:].copy()"
   ]
  },
  {
   "cell_type": "code",
   "execution_count": 27,
   "id": "40742b5a",
   "metadata": {},
   "outputs": [],
   "source": [
    "x_train = train.drop('Open', axis=1)\n",
    "y_train = train['Open']\n",
    "x_valid = valid.drop('Open', axis=1)\n",
    "y_valid = valid['Open']"
   ]
  },
  {
   "cell_type": "code",
   "execution_count": 28,
   "id": "c22ac180",
   "metadata": {},
   "outputs": [
    {
     "data": {
      "text/plain": [
       "LinearRegression()"
      ]
     },
     "execution_count": 28,
     "metadata": {},
     "output_type": "execute_result"
    }
   ],
   "source": [
    "from sklearn.linear_model import LinearRegression\n",
    "model = LinearRegression()\n",
    "model.fit(x_train,y_train)"
   ]
  },
  {
   "cell_type": "code",
   "execution_count": 29,
   "id": "4312ecc6",
   "metadata": {},
   "outputs": [
    {
     "data": {
      "text/plain": [
       "2.496067624784661"
      ]
     },
     "execution_count": 29,
     "metadata": {},
     "output_type": "execute_result"
    }
   ],
   "source": [
    "preds = model.predict(x_valid)\n",
    "rms = np.sqrt(np.mean(np.power((np.array(y_valid)-np.array(preds)),2)))\n",
    "rms"
   ]
  },
  {
   "cell_type": "code",
   "execution_count": 30,
   "id": "cadebd16",
   "metadata": {},
   "outputs": [],
   "source": [
    "valid['Predictions'] = 0\n",
    "valid['Predictions'] = preds"
   ]
  },
  {
   "cell_type": "code",
   "execution_count": 31,
   "id": "62e746f7",
   "metadata": {},
   "outputs": [],
   "source": [
    "valid.index = new_data[987:].index\n",
    "train.index = new_data[:987].index"
   ]
  },
  {
   "cell_type": "code",
   "execution_count": 32,
   "id": "72817260",
   "metadata": {},
   "outputs": [
    {
     "data": {
      "text/plain": [
       "[<matplotlib.lines.Line2D at 0x1aaf0827c40>,\n",
       " <matplotlib.lines.Line2D at 0x1aaf0827cd0>]"
      ]
     },
     "execution_count": 32,
     "metadata": {},
     "output_type": "execute_result"
    },
    {
     "data": {
      "image/png": "[encoded data removed]",
      "text/plain": [
       "<Figure size 1440x720 with 1 Axes>"
      ]
     },
     "metadata": {
      "needs_background": "light"
     },
     "output_type": "display_data"
    }
   ],
   "source": [
    "plt.plot(train['Open'])\n",
    "plt.plot(valid[['Open', 'Predictions']])"
   ]
  },
  {
   "cell_type": "markdown",
   "id": "cb60c493",
   "metadata": {},
   "source": [
    "# K-Nearest Neighbors"
   ]
  },
  {
   "cell_type": "code",
   "execution_count": 33,
   "id": "6f1e71fd",
   "metadata": {},
   "outputs": [],
   "source": [
    "from sklearn import neighbors\n",
    "from sklearn.model_selection import GridSearchCV\n",
    "from sklearn.preprocessing import MinMaxScaler\n",
    "scaler = MinMaxScaler(feature_range=(0, 1))"
   ]
  },
  {
   "cell_type": "code",
   "execution_count": 34,
   "id": "4833b6ce",
   "metadata": {},
   "outputs": [],
   "source": [
    "train = new_data[:987].copy()\n",
    "valid = new_data[987:].copy()"
   ]
  },
  {
   "cell_type": "code",
   "execution_count": 35,
   "id": "5ae0f566",
   "metadata": {},
   "outputs": [],
   "source": [
    "x_train = train.drop('Open', axis=1)\n",
    "y_train = train['Open']\n",
    "x_valid = valid.drop('Open', axis=1)\n",
    "y_valid = valid['Open']"
   ]
  },
  {
   "cell_type": "code",
   "execution_count": 36,
   "id": "2a129739",
   "metadata": {},
   "outputs": [],
   "source": [
    "x_train_scaled = scaler.fit_transform(x_train)\n",
    "x_train = pd.DataFrame(x_train_scaled)\n",
    "x_valid_scaled = scaler.transform(x_valid)\n",
    "x_valid = pd.DataFrame(x_valid_scaled)"
   ]
  },
  {
   "cell_type": "code",
   "execution_count": 37,
   "id": "4e070d72",
   "metadata": {},
   "outputs": [],
   "source": [
    "params = {'n_neighbors':[2,3,4,5,6,7,8,9]}\n",
    "knn = neighbors.KNeighborsRegressor()\n",
    "model = GridSearchCV(knn, params, cv=5)"
   ]
  },
  {
   "cell_type": "code",
   "execution_count": 38,
   "id": "08c831a8",
   "metadata": {},
   "outputs": [],
   "source": [
    "model.fit(x_train,y_train)\n",
    "preds = model.predict(x_valid)"
   ]
  },
  {
   "cell_type": "code",
   "execution_count": 39,
   "id": "6b231c7a",
   "metadata": {},
   "outputs": [
    {
     "data": {
      "text/plain": [
       "59.30410928765576"
      ]
     },
     "execution_count": 39,
     "metadata": {},
     "output_type": "execute_result"
    }
   ],
   "source": [
    "rms=np.sqrt(np.mean(np.power((np.array(y_valid)-np.array(preds)),2)))\n",
    "rms"
   ]
  },
  {
   "cell_type": "code",
   "execution_count": 40,
   "id": "d4f38328",
   "metadata": {},
   "outputs": [],
   "source": [
    "valid['Predictions'] = 0\n",
    "valid['Predictions'] = preds"
   ]
  },
  {
   "cell_type": "code",
   "execution_count": 41,
   "id": "9f7d4862",
   "metadata": {},
   "outputs": [
    {
     "data": {
      "text/plain": [
       "[<matplotlib.lines.Line2D at 0x1aaf09eccd0>]"
      ]
     },
     "execution_count": 41,
     "metadata": {},
     "output_type": "execute_result"
    },
    {
     "data": {
      "image/png": "[encoded data removed]",
      "text/plain": [
       "<Figure size 1440x720 with 1 Axes>"
      ]
     },
     "metadata": {
      "needs_background": "light"
     },
     "output_type": "display_data"
    }
   ],
   "source": [
    "plt.plot(valid[['Open', 'Predictions']])\n",
    "plt.plot(train['Open'])"
   ]
  },
  {
   "cell_type": "markdown",
   "id": "4b2b8001",
   "metadata": {},
   "source": [
    "# ARIMA\n"
   ]
  },
  {
   "cell_type": "code",
   "execution_count": 42,
   "id": "5c7ab3ef",
   "metadata": {},
   "outputs": [],
   "source": [
    "from pmdarima import auto_arima"
   ]
  },
  {
   "cell_type": "code",
   "execution_count": 43,
   "id": "e4d1797f",
   "metadata": {},
   "outputs": [],
   "source": [
    "data = df.sort_index(ascending=True, axis=0)"
   ]
  },
  {
   "cell_type": "code",
   "execution_count": 44,
   "id": "7ca40330",
   "metadata": {},
   "outputs": [],
   "source": [
    "train = data[:987].copy()\n",
    "valid = data[987:].copy()"
   ]
  },
  {
   "cell_type": "code",
   "execution_count": 45,
   "id": "d6edaab4",
   "metadata": {},
   "outputs": [],
   "source": [
    "training = train['Open']\n",
    "validation = valid['Open']"
   ]
  },
  {
   "cell_type": "code",
   "execution_count": 46,
   "id": "1944244f",
   "metadata": {},
   "outputs": [
    {
     "name": "stdout",
     "output_type": "stream",
     "text": [
      "Performing stepwise search to minimize aic\n",
      " ARIMA(1,1,1)(0,1,1)[12]             : AIC=inf, Time=1.51 sec\n",
      " ARIMA(0,1,0)(0,1,0)[12]             : AIC=5570.173, Time=0.03 sec\n",
      " ARIMA(1,1,0)(1,1,0)[12]             : AIC=5291.243, Time=0.15 sec\n",
      " ARIMA(0,1,1)(0,1,1)[12]             : AIC=inf, Time=1.17 sec\n",
      " ARIMA(1,1,0)(0,1,0)[12]             : AIC=5569.560, Time=0.05 sec\n",
      " ARIMA(1,1,0)(2,1,0)[12]             : AIC=5192.227, Time=0.40 sec\n",
      " ARIMA(1,1,0)(2,1,1)[12]             : AIC=inf, Time=3.40 sec\n",
      " ARIMA(1,1,0)(1,1,1)[12]             : AIC=inf, Time=1.09 sec\n",
      " ARIMA(0,1,0)(2,1,0)[12]             : AIC=5193.257, Time=0.29 sec\n",
      " ARIMA(2,1,0)(2,1,0)[12]             : AIC=5193.545, Time=0.54 sec\n",
      " ARIMA(1,1,1)(2,1,0)[12]             : AIC=5194.004, Time=0.85 sec\n",
      " ARIMA(0,1,1)(2,1,0)[12]             : AIC=5192.400, Time=0.46 sec\n",
      " ARIMA(2,1,1)(2,1,0)[12]             : AIC=inf, Time=4.91 sec\n",
      " ARIMA(1,1,0)(2,1,0)[12] intercept   : AIC=5194.196, Time=2.10 sec\n",
      "\n",
      "Best model:  ARIMA(1,1,0)(2,1,0)[12]          \n",
      "Total fit time: 16.972 seconds\n"
     ]
    },
    {
     "data": {
      "text/plain": [
       "ARIMA(order=(1, 1, 0), scoring_args={}, seasonal_order=(2, 1, 0, 12),\n",
       "      suppress_warnings=True, with_intercept=False)"
      ]
     },
     "execution_count": 46,
     "metadata": {},
     "output_type": "execute_result"
    }
   ],
   "source": [
    "model = auto_arima(training, start_p=1, start_q=1,max_p=3, max_q=3, m=12,start_P=0, seasonal=True,d=1, D=1, trace=True,error_action='ignore',suppress_warnings=True)\n",
    "model.fit(training)"
   ]
  },
  {
   "cell_type": "code",
   "execution_count": 47,
   "id": "a3ea5685",
   "metadata": {},
   "outputs": [],
   "source": [
    "forecast = model.predict(n_periods=248)\n",
    "forecast = pd.DataFrame(forecast,index = valid.index,columns=['Prediction'])"
   ]
  },
  {
   "cell_type": "code",
   "execution_count": 48,
   "id": "4ea185f3",
   "metadata": {},
   "outputs": [
    {
     "data": {
      "text/plain": [
       "79.04794950367716"
      ]
     },
     "execution_count": 48,
     "metadata": {},
     "output_type": "execute_result"
    }
   ],
   "source": [
    "rms=np.sqrt(np.mean(np.power((np.array(valid['Open'])-np.array(forecast['Prediction'])),2)))\n",
    "rms"
   ]
  },
  {
   "cell_type": "code",
   "execution_count": 49,
   "id": "b2eadad9",
   "metadata": {},
   "outputs": [
    {
     "data": {
      "text/plain": [
       "[<matplotlib.lines.Line2D at 0x1aafff5b580>]"
      ]
     },
     "execution_count": 49,
     "metadata": {},
     "output_type": "execute_result"
    },
    {
     "data": {
      "image/png": "[encoded data removed]",
      "text/plain": [
       "<Figure size 1440x720 with 1 Axes>"
      ]
     },
     "metadata": {
      "needs_background": "light"
     },
     "output_type": "display_data"
    }
   ],
   "source": [
    "plt.plot(train['Open'])\n",
    "plt.plot(valid['Open'])\n",
    "plt.plot(forecast['Prediction'])"
   ]
  },
  {
   "cell_type": "markdown",
   "id": "b09a6fd0",
   "metadata": {},
   "source": [
    "# LSTM"
   ]
  },
  {
   "cell_type": "code",
   "execution_count": 50,
   "id": "df76e60c",
   "metadata": {},
   "outputs": [],
   "source": [
    "from sklearn.preprocessing import MinMaxScaler\n",
    "from keras.models import Sequential\n",
    "from keras.layers import Dense, Dropout, LSTM"
   ]
  },
  {
   "cell_type": "code",
   "execution_count": 51,
   "id": "f2049145",
   "metadata": {},
   "outputs": [],
   "source": [
    "data = df.sort_index(ascending=True, axis=0)\n",
    "new_data = pd.DataFrame(index=range(0,len(df)),columns=['Date', 'Open'])\n",
    "for i in range(0,len(data)):\n",
    "    new_data['Date'][i] = data['Date'][i]\n",
    "    new_data['Open'][i] = data['Open'][i]"
   ]
  },
  {
   "cell_type": "code",
   "execution_count": 52,
   "id": "23b1334c",
   "metadata": {},
   "outputs": [],
   "source": [
    "new_data.index = new_data.Date\n",
    "new_data.drop('Date', axis=1, inplace=True)"
   ]
  },
  {
   "cell_type": "code",
   "execution_count": 53,
   "id": "8c14a821",
   "metadata": {},
   "outputs": [
    {
     "data": {
      "text/html": [
       "<div>\n",
       "<style scoped>\n",
       "    .dataframe tbody tr th:only-of-type {\n",
       "        vertical-align: middle;\n",
       "    }\n",
       "\n",
       "    .dataframe tbody tr th {\n",
       "        vertical-align: top;\n",
       "    }\n",
       "\n",
       "    .dataframe thead th {\n",
       "        text-align: right;\n",
       "    }\n",
       "</style>\n",
       "<table border=\"1\" class=\"dataframe\">\n",
       "  <thead>\n",
       "    <tr style=\"text-align: right;\">\n",
       "      <th></th>\n",
       "      <th>Open</th>\n",
       "    </tr>\n",
       "    <tr>\n",
       "      <th>Date</th>\n",
       "      <th></th>\n",
       "    </tr>\n",
       "  </thead>\n",
       "  <tbody>\n",
       "    <tr>\n",
       "      <th>2013-10-08</th>\n",
       "      <td>157.0</td>\n",
       "    </tr>\n",
       "    <tr>\n",
       "      <th>2013-10-09</th>\n",
       "      <td>155.7</td>\n",
       "    </tr>\n",
       "    <tr>\n",
       "      <th>2013-10-10</th>\n",
       "      <td>156.0</td>\n",
       "    </tr>\n",
       "    <tr>\n",
       "      <th>2013-10-11</th>\n",
       "      <td>161.15</td>\n",
       "    </tr>\n",
       "    <tr>\n",
       "      <th>2013-10-14</th>\n",
       "      <td>160.85</td>\n",
       "    </tr>\n",
       "  </tbody>\n",
       "</table>\n",
       "</div>"
      ],
      "text/plain": [
       "              Open\n",
       "Date              \n",
       "2013-10-08   157.0\n",
       "2013-10-09   155.7\n",
       "2013-10-10   156.0\n",
       "2013-10-11  161.15\n",
       "2013-10-14  160.85"
      ]
     },
     "execution_count": 53,
     "metadata": {},
     "output_type": "execute_result"
    }
   ],
   "source": [
    "new_data.head()"
   ]
  },
  {
   "cell_type": "code",
   "execution_count": 54,
   "id": "620ee6a7",
   "metadata": {
    "scrolled": true
   },
   "outputs": [
    {
     "data": {
      "text/html": [
       "<div>\n",
       "<style scoped>\n",
       "    .dataframe tbody tr th:only-of-type {\n",
       "        vertical-align: middle;\n",
       "    }\n",
       "\n",
       "    .dataframe tbody tr th {\n",
       "        vertical-align: top;\n",
       "    }\n",
       "\n",
       "    .dataframe thead th {\n",
       "        text-align: right;\n",
       "    }\n",
       "</style>\n",
       "<table border=\"1\" class=\"dataframe\">\n",
       "  <thead>\n",
       "    <tr style=\"text-align: right;\">\n",
       "      <th></th>\n",
       "      <th>Open</th>\n",
       "    </tr>\n",
       "    <tr>\n",
       "      <th>Date</th>\n",
       "      <th></th>\n",
       "    </tr>\n",
       "  </thead>\n",
       "  <tbody>\n",
       "    <tr>\n",
       "      <th>2013-10-08</th>\n",
       "      <td>157.0</td>\n",
       "    </tr>\n",
       "    <tr>\n",
       "      <th>2013-10-09</th>\n",
       "      <td>155.7</td>\n",
       "    </tr>\n",
       "    <tr>\n",
       "      <th>2013-10-10</th>\n",
       "      <td>156.0</td>\n",
       "    </tr>\n",
       "    <tr>\n",
       "      <th>2013-10-11</th>\n",
       "      <td>161.15</td>\n",
       "    </tr>\n",
       "    <tr>\n",
       "      <th>2013-10-14</th>\n",
       "      <td>160.85</td>\n",
       "    </tr>\n",
       "    <tr>\n",
       "      <th>...</th>\n",
       "      <td>...</td>\n",
       "    </tr>\n",
       "    <tr>\n",
       "      <th>2017-09-29</th>\n",
       "      <td>204.5</td>\n",
       "    </tr>\n",
       "    <tr>\n",
       "      <th>2017-10-03</th>\n",
       "      <td>207.25</td>\n",
       "    </tr>\n",
       "    <tr>\n",
       "      <th>2017-10-04</th>\n",
       "      <td>207.3</td>\n",
       "    </tr>\n",
       "    <tr>\n",
       "      <th>2017-10-05</th>\n",
       "      <td>204.95</td>\n",
       "    </tr>\n",
       "    <tr>\n",
       "      <th>2017-10-06</th>\n",
       "      <td>210.0</td>\n",
       "    </tr>\n",
       "  </tbody>\n",
       "</table>\n",
       "<p>987 rows × 1 columns</p>\n",
       "</div>"
      ],
      "text/plain": [
       "              Open\n",
       "Date              \n",
       "2013-10-08   157.0\n",
       "2013-10-09   155.7\n",
       "2013-10-10   156.0\n",
       "2013-10-11  161.15\n",
       "2013-10-14  160.85\n",
       "...            ...\n",
       "2017-09-29   204.5\n",
       "2017-10-03  207.25\n",
       "2017-10-04   207.3\n",
       "2017-10-05  204.95\n",
       "2017-10-06   210.0\n",
       "\n",
       "[987 rows x 1 columns]"
      ]
     },
     "execution_count": 54,
     "metadata": {},
     "output_type": "execute_result"
    }
   ],
   "source": [
    "data_training = new_data[new_data.index < '2017-10-09'].copy()\n",
    "data_training"
   ]
  },
  {
   "cell_type": "code",
   "execution_count": 55,
   "id": "a965be4a",
   "metadata": {
    "scrolled": true
   },
   "outputs": [
    {
     "data": {
      "text/html": [
       "<div>\n",
       "<style scoped>\n",
       "    .dataframe tbody tr th:only-of-type {\n",
       "        vertical-align: middle;\n",
       "    }\n",
       "\n",
       "    .dataframe tbody tr th {\n",
       "        vertical-align: top;\n",
       "    }\n",
       "\n",
       "    .dataframe thead th {\n",
       "        text-align: right;\n",
       "    }\n",
       "</style>\n",
       "<table border=\"1\" class=\"dataframe\">\n",
       "  <thead>\n",
       "    <tr style=\"text-align: right;\">\n",
       "      <th></th>\n",
       "      <th>Open</th>\n",
       "    </tr>\n",
       "    <tr>\n",
       "      <th>Date</th>\n",
       "      <th></th>\n",
       "    </tr>\n",
       "  </thead>\n",
       "  <tbody>\n",
       "    <tr>\n",
       "      <th>2017-10-10</th>\n",
       "      <td>209.5</td>\n",
       "    </tr>\n",
       "    <tr>\n",
       "      <th>2017-10-11</th>\n",
       "      <td>209.45</td>\n",
       "    </tr>\n",
       "    <tr>\n",
       "      <th>2017-10-12</th>\n",
       "      <td>211.0</td>\n",
       "    </tr>\n",
       "    <tr>\n",
       "      <th>2017-10-13</th>\n",
       "      <td>211.0</td>\n",
       "    </tr>\n",
       "    <tr>\n",
       "      <th>2017-10-16</th>\n",
       "      <td>210.3</td>\n",
       "    </tr>\n",
       "    <tr>\n",
       "      <th>...</th>\n",
       "      <td>...</td>\n",
       "    </tr>\n",
       "    <tr>\n",
       "      <th>2018-10-01</th>\n",
       "      <td>234.55</td>\n",
       "    </tr>\n",
       "    <tr>\n",
       "      <th>2018-10-03</th>\n",
       "      <td>230.0</td>\n",
       "    </tr>\n",
       "    <tr>\n",
       "      <th>2018-10-04</th>\n",
       "      <td>223.5</td>\n",
       "    </tr>\n",
       "    <tr>\n",
       "      <th>2018-10-05</th>\n",
       "      <td>217.0</td>\n",
       "    </tr>\n",
       "    <tr>\n",
       "      <th>2018-10-08</th>\n",
       "      <td>208.0</td>\n",
       "    </tr>\n",
       "  </tbody>\n",
       "</table>\n",
       "<p>247 rows × 1 columns</p>\n",
       "</div>"
      ],
      "text/plain": [
       "              Open\n",
       "Date              \n",
       "2017-10-10   209.5\n",
       "2017-10-11  209.45\n",
       "2017-10-12   211.0\n",
       "2017-10-13   211.0\n",
       "2017-10-16   210.3\n",
       "...            ...\n",
       "2018-10-01  234.55\n",
       "2018-10-03   230.0\n",
       "2018-10-04   223.5\n",
       "2018-10-05   217.0\n",
       "2018-10-08   208.0\n",
       "\n",
       "[247 rows x 1 columns]"
      ]
     },
     "execution_count": 55,
     "metadata": {},
     "output_type": "execute_result"
    }
   ],
   "source": [
    "data_testing = new_data[new_data.index > '2017-10-09'].copy()\n",
    "data_testing"
   ]
  },
  {
   "cell_type": "code",
   "execution_count": 56,
   "id": "ca484b96",
   "metadata": {},
   "outputs": [],
   "source": [
    "scalar = MinMaxScaler(feature_range=(0, 1))\n",
    "scaled_data = scalar.fit_transform(data_training)"
   ]
  },
  {
   "cell_type": "code",
   "execution_count": 57,
   "id": "586e841a",
   "metadata": {},
   "outputs": [],
   "source": [
    "x_train, y_train = [], []\n",
    "for i in range(100,len(data_training)):\n",
    "    x_train.append(scaled_data[i-100:i,0])\n",
    "    y_train.append(scaled_data[i,0])\n",
    "x_train, y_train = np.array(x_train), np.array(y_train)\n",
    "x_train = np.reshape(x_train, (x_train.shape[0],x_train.shape[1],1))"
   ]
  },
  {
   "cell_type": "code",
   "execution_count": 58,
   "id": "aa95342e",
   "metadata": {},
   "outputs": [
    {
     "name": "stdout",
     "output_type": "stream",
     "text": [
      "Model: \"sequential\"\n",
      "_________________________________________________________________\n",
      " Layer (type)                Output Shape              Param #   \n",
      "=================================================================\n",
      " lstm (LSTM)                 (None, 100, 50)           10400     \n",
      "                                                                 \n",
      " dropout (Dropout)           (None, 100, 50)           0         \n",
      "                                                                 \n",
      " lstm_1 (LSTM)               (None, 100, 60)           26640     \n",
      "                                                                 \n",
      " dropout_1 (Dropout)         (None, 100, 60)           0         \n",
      "                                                                 \n",
      " lstm_2 (LSTM)               (None, 100, 80)           45120     \n",
      "                                                                 \n",
      " dropout_2 (Dropout)         (None, 100, 80)           0         \n",
      "                                                                 \n",
      " lstm_3 (LSTM)               (None, 100, 120)          96480     \n",
      "                                                                 \n",
      " dropout_3 (Dropout)         (None, 100, 120)          0         \n",
      "                                                                 \n",
      " lstm_4 (LSTM)               (None, 10)                5240      \n",
      "                                                                 \n",
      " dense (Dense)               (None, 1)                 11        \n",
      "                                                                 \n",
      "=================================================================\n",
      "Total params: 183,891\n",
      "Trainable params: 183,891\n",
      "Non-trainable params: 0\n",
      "_________________________________________________________________\n"
     ]
    }
   ],
   "source": [
    "model = Sequential()\n",
    "model.add(LSTM(units=50,activation='relu', return_sequences=True, input_shape=(x_train.shape[1],x_train.shape[2])))\n",
    "model.add(Dropout(0.2))\n",
    "model.add(LSTM(units=60,activation='relu', return_sequences=True, input_shape=(x_train.shape[1],x_train.shape[2])))\n",
    "model.add(Dropout(0.3))\n",
    "model.add(LSTM(units=80, activation='relu',return_sequences=True, input_shape=(x_train.shape[1],x_train.shape[2])))\n",
    "model.add(Dropout(0.4))\n",
    "model.add(LSTM(units=120,activation='relu', return_sequences=True, input_shape=(x_train.shape[1],x_train.shape[2])))\n",
    "model.add(Dropout(0.5))\n",
    "model.add(LSTM(units=10))\n",
    "model.add(Dense(1))\n",
    "model.summary()"
   ]
  },
  {
   "cell_type": "code",
   "execution_count": 59,
   "id": "f5b20f13",
   "metadata": {
    "scrolled": true
   },
   "outputs": [
    {
     "name": "stdout",
     "output_type": "stream",
     "text": [
      "Epoch 1/50\n",
      "28/28 [==============================] - 11s 188ms/step - loss: 0.0415\n",
      "Epoch 2/50\n",
      "28/28 [==============================] - 5s 186ms/step - loss: 0.0102\n",
      "Epoch 3/50\n",
      "28/28 [==============================] - 5s 181ms/step - loss: 0.0086\n",
      "Epoch 4/50\n",
      "28/28 [==============================] - 5s 188ms/step - loss: 0.0074\n",
      "Epoch 5/50\n",
      "28/28 [==============================] - 5s 192ms/step - loss: 0.0075\n",
      "Epoch 6/50\n",
      "28/28 [==============================] - 5s 181ms/step - loss: 0.0073\n",
      "Epoch 7/50\n",
      "28/28 [==============================] - 6s 202ms/step - loss: 0.0066\n",
      "Epoch 8/50\n",
      "28/28 [==============================] - 5s 182ms/step - loss: 0.0067\n",
      "Epoch 9/50\n",
      "28/28 [==============================] - 5s 185ms/step - loss: 0.0065\n",
      "Epoch 10/50\n",
      "28/28 [==============================] - 5s 195ms/step - loss: 0.0059\n",
      "Epoch 11/50\n",
      "28/28 [==============================] - 5s 186ms/step - loss: 0.0060\n",
      "Epoch 12/50\n",
      "28/28 [==============================] - 5s 185ms/step - loss: 0.0055\n",
      "Epoch 13/50\n",
      "28/28 [==============================] - 5s 185ms/step - loss: 0.0058\n",
      "Epoch 14/50\n",
      "28/28 [==============================] - 5s 184ms/step - loss: 0.0052\n",
      "Epoch 15/50\n",
      "28/28 [==============================] - 5s 183ms/step - loss: 0.0055\n",
      "Epoch 16/50\n",
      "28/28 [==============================] - 5s 184ms/step - loss: 0.0051\n",
      "Epoch 17/50\n",
      "28/28 [==============================] - 5s 188ms/step - loss: 0.0052\n",
      "Epoch 18/50\n",
      "28/28 [==============================] - 5s 188ms/step - loss: 0.0049\n",
      "Epoch 19/50\n",
      "28/28 [==============================] - 5s 183ms/step - loss: 0.0045\n",
      "Epoch 20/50\n",
      "28/28 [==============================] - 5s 188ms/step - loss: 0.0049\n",
      "Epoch 21/50\n",
      "28/28 [==============================] - 5s 194ms/step - loss: 0.0045\n",
      "Epoch 22/50\n",
      "28/28 [==============================] - 6s 197ms/step - loss: 0.0042\n",
      "Epoch 23/50\n",
      "28/28 [==============================] - 5s 185ms/step - loss: 0.0041\n",
      "Epoch 24/50\n",
      "28/28 [==============================] - 5s 193ms/step - loss: 0.0042\n",
      "Epoch 25/50\n",
      "28/28 [==============================] - 6s 205ms/step - loss: 0.0040\n",
      "Epoch 26/50\n",
      "28/28 [==============================] - 5s 192ms/step - loss: 0.0038\n",
      "Epoch 27/50\n",
      "28/28 [==============================] - 6s 199ms/step - loss: 0.0036\n",
      "Epoch 28/50\n",
      "28/28 [==============================] - 5s 191ms/step - loss: 0.0036\n",
      "Epoch 29/50\n",
      "28/28 [==============================] - 6s 202ms/step - loss: 0.0037\n",
      "Epoch 30/50\n",
      "28/28 [==============================] - 6s 205ms/step - loss: 0.0034\n",
      "Epoch 31/50\n",
      "28/28 [==============================] - 5s 188ms/step - loss: 0.0036\n",
      "Epoch 32/50\n",
      "28/28 [==============================] - 6s 209ms/step - loss: 0.0038\n",
      "Epoch 33/50\n",
      "28/28 [==============================] - 6s 216ms/step - loss: 0.0032\n",
      "Epoch 34/50\n",
      "28/28 [==============================] - 5s 186ms/step - loss: 0.0037\n",
      "Epoch 35/50\n",
      "28/28 [==============================] - 6s 201ms/step - loss: 0.0033\n",
      "Epoch 36/50\n",
      "28/28 [==============================] - 5s 188ms/step - loss: 0.0032\n",
      "Epoch 37/50\n",
      "28/28 [==============================] - 6s 203ms/step - loss: 0.0035\n",
      "Epoch 38/50\n",
      "28/28 [==============================] - 6s 205ms/step - loss: 0.0030\n",
      "Epoch 39/50\n",
      "28/28 [==============================] - 5s 188ms/step - loss: 0.0030\n",
      "Epoch 40/50\n",
      "28/28 [==============================] - 5s 196ms/step - loss: 0.0029\n",
      "Epoch 41/50\n",
      "28/28 [==============================] - 5s 192ms/step - loss: 0.0026\n",
      "Epoch 42/50\n",
      "28/28 [==============================] - 5s 193ms/step - loss: 0.0029\n",
      "Epoch 43/50\n",
      "28/28 [==============================] - 5s 187ms/step - loss: 0.0029\n",
      "Epoch 44/50\n",
      "28/28 [==============================] - 5s 187ms/step - loss: 0.0028\n",
      "Epoch 45/50\n",
      "28/28 [==============================] - 5s 184ms/step - loss: 0.0030\n",
      "Epoch 46/50\n",
      "28/28 [==============================] - 5s 185ms/step - loss: 0.0026\n",
      "Epoch 47/50\n",
      "28/28 [==============================] - 5s 187ms/step - loss: 0.0028\n",
      "Epoch 48/50\n",
      "28/28 [==============================] - 6s 216ms/step - loss: 0.0026\n",
      "Epoch 49/50\n",
      "28/28 [==============================] - 5s 190ms/step - loss: 0.0026\n",
      "Epoch 50/50\n",
      "28/28 [==============================] - 5s 196ms/step - loss: 0.0026\n"
     ]
    },
    {
     "data": {
      "text/plain": [
       "<keras.callbacks.History at 0x1ab07277760>"
      ]
     },
     "execution_count": 59,
     "metadata": {},
     "output_type": "execute_result"
    }
   ],
   "source": [
    "model.compile(loss='mean_squared_error', optimizer='adam')\n",
    "model.fit(x_train, y_train, epochs=50, batch_size=32, verbose=1)"
   ]
  },
  {
   "cell_type": "code",
   "execution_count": 60,
   "id": "f8758b32",
   "metadata": {},
   "outputs": [
    {
     "name": "stderr",
     "output_type": "stream",
     "text": [
      "C:\\Users\\Sai Kalyan\\AppData\\Local\\Temp\\ipykernel_20864\\1412723301.py:3: FutureWarning: The frame.append method is deprecated and will be removed from pandas in a future version. Use pandas.concat instead.\n",
      "  dt = past_100.append(data_testing, ignore_index = True)\n"
     ]
    },
    {
     "data": {
      "text/html": [
       "<div>\n",
       "<style scoped>\n",
       "    .dataframe tbody tr th:only-of-type {\n",
       "        vertical-align: middle;\n",
       "    }\n",
       "\n",
       "    .dataframe tbody tr th {\n",
       "        vertical-align: top;\n",
       "    }\n",
       "\n",
       "    .dataframe thead th {\n",
       "        text-align: right;\n",
       "    }\n",
       "</style>\n",
       "<table border=\"1\" class=\"dataframe\">\n",
       "  <thead>\n",
       "    <tr style=\"text-align: right;\">\n",
       "      <th></th>\n",
       "      <th>Open</th>\n",
       "    </tr>\n",
       "  </thead>\n",
       "  <tbody>\n",
       "    <tr>\n",
       "      <th>0</th>\n",
       "      <td>154.6</td>\n",
       "    </tr>\n",
       "    <tr>\n",
       "      <th>1</th>\n",
       "      <td>154.0</td>\n",
       "    </tr>\n",
       "    <tr>\n",
       "      <th>2</th>\n",
       "      <td>152.0</td>\n",
       "    </tr>\n",
       "    <tr>\n",
       "      <th>3</th>\n",
       "      <td>149.5</td>\n",
       "    </tr>\n",
       "    <tr>\n",
       "      <th>4</th>\n",
       "      <td>149.8</td>\n",
       "    </tr>\n",
       "    <tr>\n",
       "      <th>...</th>\n",
       "      <td>...</td>\n",
       "    </tr>\n",
       "    <tr>\n",
       "      <th>342</th>\n",
       "      <td>234.55</td>\n",
       "    </tr>\n",
       "    <tr>\n",
       "      <th>343</th>\n",
       "      <td>230.0</td>\n",
       "    </tr>\n",
       "    <tr>\n",
       "      <th>344</th>\n",
       "      <td>223.5</td>\n",
       "    </tr>\n",
       "    <tr>\n",
       "      <th>345</th>\n",
       "      <td>217.0</td>\n",
       "    </tr>\n",
       "    <tr>\n",
       "      <th>346</th>\n",
       "      <td>208.0</td>\n",
       "    </tr>\n",
       "  </tbody>\n",
       "</table>\n",
       "<p>347 rows × 1 columns</p>\n",
       "</div>"
      ],
      "text/plain": [
       "       Open\n",
       "0     154.6\n",
       "1     154.0\n",
       "2     152.0\n",
       "3     149.5\n",
       "4     149.8\n",
       "..      ...\n",
       "342  234.55\n",
       "343   230.0\n",
       "344   223.5\n",
       "345   217.0\n",
       "346   208.0\n",
       "\n",
       "[347 rows x 1 columns]"
      ]
     },
     "execution_count": 60,
     "metadata": {},
     "output_type": "execute_result"
    }
   ],
   "source": [
    "past_100 = data_training.tail(100)\n",
    "\n",
    "dt = past_100.append(data_testing, ignore_index = True)\n",
    "dt"
   ]
  },
  {
   "cell_type": "code",
   "execution_count": 61,
   "id": "a46ee7be",
   "metadata": {},
   "outputs": [
    {
     "name": "stdout",
     "output_type": "stream",
     "text": [
      "(347, 1)\n"
     ]
    },
    {
     "data": {
      "text/plain": [
       "array([[0.0605156 ],\n",
       "       [0.05725916],\n",
       "       [0.04640434],\n",
       "       [0.03283582],\n",
       "       [0.03446404],\n",
       "       [0.02496608],\n",
       "       [0.00949796],\n",
       "       [0.        ],\n",
       "       [0.00298507],\n",
       "       [0.02035278],\n",
       "       [0.00841248],\n",
       "       [0.02767978],\n",
       "       [0.0265943 ],\n",
       "       [0.05237449],\n",
       "       [0.06295794],\n",
       "       [0.06268657],\n",
       "       [0.04993216],\n",
       "       [0.06322931],\n",
       "       [0.06214383],\n",
       "       [0.05454545],\n",
       "       [0.04884668],\n",
       "       [0.07327001],\n",
       "       [0.08141113],\n",
       "       [0.08955224],\n",
       "       [0.0843962 ],\n",
       "       [0.07218453],\n",
       "       [0.0724559 ],\n",
       "       [0.07354138],\n",
       "       [0.0605156 ],\n",
       "       [0.04179104],\n",
       "       [0.02062415],\n",
       "       [0.03527815],\n",
       "       [0.02469471],\n",
       "       [0.04911805],\n",
       "       [0.05563094],\n",
       "       [0.04369064],\n",
       "       [0.07082768],\n",
       "       [0.05264586],\n",
       "       [0.0843962 ],\n",
       "       [0.12808684],\n",
       "       [0.14979647],\n",
       "       [0.17313433],\n",
       "       [0.1761194 ],\n",
       "       [0.16716418],\n",
       "       [0.17720488],\n",
       "       [0.16472185],\n",
       "       [0.1734057 ],\n",
       "       [0.15440977],\n",
       "       [0.15603799],\n",
       "       [0.1468114 ],\n",
       "       [0.15495251],\n",
       "       [0.16499322],\n",
       "       [0.13270014],\n",
       "       [0.14138399],\n",
       "       [0.1495251 ],\n",
       "       [0.13324288],\n",
       "       [0.12211669],\n",
       "       [0.11533243],\n",
       "       [0.12781547],\n",
       "       [0.15386703],\n",
       "       [0.11967436],\n",
       "       [0.09986431],\n",
       "       [0.06322931],\n",
       "       [0.12238806],\n",
       "       [0.2119403 ],\n",
       "       [0.2743555 ],\n",
       "       [0.25156038],\n",
       "       [0.28873813],\n",
       "       [0.29145183],\n",
       "       [0.26078697],\n",
       "       [0.29226594],\n",
       "       [0.2797829 ],\n",
       "       [0.26865672],\n",
       "       [0.26892809],\n",
       "       [0.29877883],\n",
       "       [0.29742198],\n",
       "       [0.29606513],\n",
       "       [0.27598372],\n",
       "       [0.28032564],\n",
       "       [0.35006784],\n",
       "       [0.34002714],\n",
       "       [0.3568521 ],\n",
       "       [0.37204885],\n",
       "       [0.38643148],\n",
       "       [0.35305292],\n",
       "       [0.36662144],\n",
       "       [0.37557666],\n",
       "       [0.37747626],\n",
       "       [0.39592944],\n",
       "       [0.38290366],\n",
       "       [0.36662144],\n",
       "       [0.31478969],\n",
       "       [0.28521031],\n",
       "       [0.3421981 ],\n",
       "       [0.30176391],\n",
       "       [0.33134328],\n",
       "       [0.34626866],\n",
       "       [0.34654003],\n",
       "       [0.33378562],\n",
       "       [0.36119403],\n",
       "       [0.35848033],\n",
       "       [0.35820896],\n",
       "       [0.36662144],\n",
       "       [0.36662144],\n",
       "       [0.36282225],\n",
       "       [0.36336499],\n",
       "       [0.36906377],\n",
       "       [0.34979647],\n",
       "       [0.33677069],\n",
       "       [0.32862958],\n",
       "       [0.36662144],\n",
       "       [0.33378562],\n",
       "       [0.36824966],\n",
       "       [0.44260516],\n",
       "       [0.4531886 ],\n",
       "       [0.4531886 ],\n",
       "       [0.45834464],\n",
       "       [0.45345997],\n",
       "       [0.44206242],\n",
       "       [0.49687924],\n",
       "       [0.44803256],\n",
       "       [0.44694708],\n",
       "       [0.52781547],\n",
       "       [0.50393487],\n",
       "       [0.49525102],\n",
       "       [0.51261872],\n",
       "       [0.6       ],\n",
       "       [0.59050204],\n",
       "       [0.63880597],\n",
       "       [0.71886024],\n",
       "       [0.70583446],\n",
       "       [0.70393487],\n",
       "       [0.71424695],\n",
       "       [0.7275441 ],\n",
       "       [0.72483039],\n",
       "       [0.7807327 ],\n",
       "       [0.73514247],\n",
       "       [0.78697422],\n",
       "       [0.76824966],\n",
       "       [0.73785617],\n",
       "       [0.73514247],\n",
       "       [0.71940299],\n",
       "       [0.78208955],\n",
       "       [0.7953867 ],\n",
       "       [0.84206242],\n",
       "       [0.7953867 ],\n",
       "       [0.78453189],\n",
       "       [0.78995929],\n",
       "       [0.74111262],\n",
       "       [0.80624152],\n",
       "       [0.8550882 ],\n",
       "       [0.86187246],\n",
       "       [0.8550882 ],\n",
       "       [0.8697422 ],\n",
       "       [0.87951153],\n",
       "       [0.88493894],\n",
       "       [0.89335142],\n",
       "       [0.94599729],\n",
       "       [0.92727273],\n",
       "       [0.91424695],\n",
       "       [0.91478969],\n",
       "       [0.91641791],\n",
       "       [0.92917232],\n",
       "       [0.94518318],\n",
       "       [0.93107191],\n",
       "       [0.9256445 ],\n",
       "       [0.93134328],\n",
       "       [1.        ],\n",
       "       [0.97449118],\n",
       "       [0.92483039],\n",
       "       [0.93134328],\n",
       "       [0.88222524],\n",
       "       [0.88792402],\n",
       "       [0.90773406],\n",
       "       [0.88222524],\n",
       "       [0.87137042],\n",
       "       [0.87815468],\n",
       "       [0.85481682],\n",
       "       [0.86540027],\n",
       "       [0.79674355],\n",
       "       [0.76282225],\n",
       "       [0.66024423],\n",
       "       [0.62713704],\n",
       "       [0.68683853],\n",
       "       [0.75196744],\n",
       "       [0.69280868],\n",
       "       [0.7541384 ],\n",
       "       [0.78426052],\n",
       "       [0.76472185],\n",
       "       [0.74246947],\n",
       "       [0.72483039],\n",
       "       [0.6797829 ],\n",
       "       [0.65970149],\n",
       "       [0.66485753],\n",
       "       [0.65535957],\n",
       "       [0.70610583],\n",
       "       [0.71397558],\n",
       "       [0.70312076],\n",
       "       [0.71397558],\n",
       "       [0.71289009],\n",
       "       [0.72320217],\n",
       "       [0.69769335],\n",
       "       [0.68955224],\n",
       "       [0.71886024],\n",
       "       [0.68683853],\n",
       "       [0.73052917],\n",
       "       [0.71533243],\n",
       "       [0.7302578 ],\n",
       "       [0.74545455],\n",
       "       [0.7009498 ],\n",
       "       [0.63093623],\n",
       "       [0.66132972],\n",
       "       [0.6578019 ],\n",
       "       [0.58398915],\n",
       "       [0.621981  ],\n",
       "       [0.65427408],\n",
       "       [0.63934871],\n",
       "       [0.62903664],\n",
       "       [0.71940299],\n",
       "       [0.72320217],\n",
       "       [0.71153324],\n",
       "       [0.71289009],\n",
       "       [0.71397558],\n",
       "       [0.7421981 ],\n",
       "       [0.71994573],\n",
       "       [0.70800543],\n",
       "       [0.70854817],\n",
       "       [0.70854817],\n",
       "       [0.75196744],\n",
       "       [0.75359566],\n",
       "       [0.77367707],\n",
       "       [0.7734057 ],\n",
       "       [0.78290366],\n",
       "       [0.75739484],\n",
       "       [0.75766621],\n",
       "       [0.80895522],\n",
       "       [0.81411126],\n",
       "       [0.8165536 ],\n",
       "       [0.83554953],\n",
       "       [0.81031208],\n",
       "       [0.77937585],\n",
       "       [0.78887381],\n",
       "       [0.82795115],\n",
       "       [0.79321574],\n",
       "       [0.81139756],\n",
       "       [0.76499322],\n",
       "       [0.74111262],\n",
       "       [0.61329715],\n",
       "       [0.52401628],\n",
       "       [0.54301221],\n",
       "       [0.56906377],\n",
       "       [0.54626866],\n",
       "       [0.54572592],\n",
       "       [0.55929444],\n",
       "       [0.58371777],\n",
       "       [0.59023066],\n",
       "       [0.60379919],\n",
       "       [0.61845319],\n",
       "       [0.6       ],\n",
       "       [0.67055631],\n",
       "       [0.68521031],\n",
       "       [0.65970149],\n",
       "       [0.60814111],\n",
       "       [0.64748982],\n",
       "       [0.67001357],\n",
       "       [0.65264586],\n",
       "       [0.66295794],\n",
       "       [0.64748982],\n",
       "       [0.67055631],\n",
       "       [0.68575305],\n",
       "       [0.73649932],\n",
       "       [0.69525102],\n",
       "       [0.71207598],\n",
       "       [0.65264586],\n",
       "       [0.621981  ],\n",
       "       [0.62116689],\n",
       "       [0.63310719],\n",
       "       [0.65861601],\n",
       "       [0.66024423],\n",
       "       [0.64884668],\n",
       "       [0.64721845],\n",
       "       [0.69226594],\n",
       "       [0.65698779],\n",
       "       [0.74654003],\n",
       "       [0.72727273],\n",
       "       [0.68575305],\n",
       "       [0.67734057],\n",
       "       [0.71886024],\n",
       "       [0.71289009],\n",
       "       [0.6890095 ],\n",
       "       [0.65970149],\n",
       "       [0.62116689],\n",
       "       [0.53242877],\n",
       "       [0.56960651],\n",
       "       [0.52238806],\n",
       "       [0.47652646],\n",
       "       [0.51804613],\n",
       "       [0.54572592],\n",
       "       [0.57014925],\n",
       "       [0.50176391],\n",
       "       [0.52944369],\n",
       "       [0.54409769],\n",
       "       [0.54246947],\n",
       "       [0.57123474],\n",
       "       [0.48331072],\n",
       "       [0.50230665],\n",
       "       [0.49769335],\n",
       "       [0.52944369],\n",
       "       [0.50909091],\n",
       "       [0.50583446],\n",
       "       [0.50936228],\n",
       "       [0.48602442],\n",
       "       [0.49687924],\n",
       "       [0.50257802],\n",
       "       [0.52835821],\n",
       "       [0.54572592],\n",
       "       [0.5614654 ],\n",
       "       [0.5256445 ],\n",
       "       [0.49416554],\n",
       "       [0.47951153],\n",
       "       [0.50773406],\n",
       "       [0.49063772],\n",
       "       [0.49877883],\n",
       "       [0.50773406],\n",
       "       [0.50230665],\n",
       "       [0.51424695],\n",
       "       [0.42632293],\n",
       "       [0.43717775],\n",
       "       [0.42089552],\n",
       "       [0.42903664],\n",
       "       [0.42903664],\n",
       "       [0.39565807],\n",
       "       [0.43419267],\n",
       "       [0.48683853],\n",
       "       [0.51261872],\n",
       "       [0.50203528],\n",
       "       [0.49687924],\n",
       "       [0.4890095 ],\n",
       "       [0.48765265],\n",
       "       [0.52401628],\n",
       "       [0.49443691],\n",
       "       [0.4917232 ],\n",
       "       [0.49443691],\n",
       "       [0.4697422 ],\n",
       "       [0.43446404],\n",
       "       [0.39918589],\n",
       "       [0.35033921]])"
      ]
     },
     "execution_count": 61,
     "metadata": {},
     "output_type": "execute_result"
    }
   ],
   "source": [
    "inputs = scaler.fit_transform(dt)\n",
    "print(inputs.shape)\n",
    "inputs"
   ]
  },
  {
   "cell_type": "code",
   "execution_count": 62,
   "id": "d17201d5",
   "metadata": {},
   "outputs": [
    {
     "data": {
      "text/plain": [
       "((247, 100, 1), (247,))"
      ]
     },
     "execution_count": 62,
     "metadata": {},
     "output_type": "execute_result"
    }
   ],
   "source": [
    "X_test = []\n",
    "y_test = []\n",
    "\n",
    "for i in range(100, inputs.shape[0]):\n",
    "    X_test.append(inputs[i-100:i])\n",
    "    y_test.append(inputs[i, 0])\n",
    "    \n",
    "X_test, y_test = np.array(X_test), np.array(y_test)\n",
    "X_test.shape, y_test.shape"
   ]
  },
  {
   "cell_type": "code",
   "execution_count": 63,
   "id": "d3ef9a9f",
   "metadata": {},
   "outputs": [
    {
     "name": "stdout",
     "output_type": "stream",
     "text": [
      "8/8 [==============================] - 1s 60ms/step\n"
     ]
    }
   ],
   "source": [
    "y_pred = model.predict(X_test)"
   ]
  },
  {
   "cell_type": "code",
   "execution_count": 64,
   "id": "9df6e18d",
   "metadata": {},
   "outputs": [
    {
     "data": {
      "text/plain": [
       "array([0.00542741])"
      ]
     },
     "execution_count": 64,
     "metadata": {},
     "output_type": "execute_result"
    }
   ],
   "source": [
    "scaler.scale_"
   ]
  },
  {
   "cell_type": "code",
   "execution_count": 65,
   "id": "0995a492",
   "metadata": {},
   "outputs": [],
   "source": [
    "scale = 1/scalar.scale_[0]"
   ]
  },
  {
   "cell_type": "code",
   "execution_count": 66,
   "id": "401cb084",
   "metadata": {},
   "outputs": [],
   "source": [
    "y_pred = y_pred*scale\n",
    "y_test = y_test*scale"
   ]
  },
  {
   "cell_type": "code",
   "execution_count": 67,
   "id": "ac879fd9",
   "metadata": {},
   "outputs": [
    {
     "data": {
      "text/plain": [
       "24.433405491706573"
      ]
     },
     "execution_count": 67,
     "metadata": {},
     "output_type": "execute_result"
    }
   ],
   "source": [
    "rms=np.sqrt(np.mean(np.power(y_test - y_pred,2)))\n",
    "rms"
   ]
  },
  {
   "cell_type": "code",
   "execution_count": 68,
   "id": "7c0be808",
   "metadata": {},
   "outputs": [
    {
     "data": {
      "image/png": "[encoded data removed]",
      "text/plain": [
       "<Figure size 2016x864 with 1 Axes>"
      ]
     },
     "metadata": {
      "needs_background": "light"
     },
     "output_type": "display_data"
    }
   ],
   "source": [
    "plt.figure(figsize=(28,12))\n",
    "plt.plot(y_test, color = 'red', label = 'Real Open')\n",
    "plt.plot(y_pred, color = 'blue', label = 'Predicted Open')\n",
    "plt.title('Price Prediction-After 50 epochs and Batch Size=32')\n",
    "plt.xlabel('Time')\n",
    "plt.ylabel('Price')\n",
    "plt.legend()\n",
    "plt.show()"
   ]
  }
 ],
 "metadata": {
  "kernelspec": {
   "display_name": "Python 3 (ipykernel)",
   "language": "python",
   "name": "python3"
  },
  "language_info": {
   "codemirror_mode": {
    "name": "ipython",
    "version": 3
   },
   "file_extension": ".py",
   "mimetype": "text/x-python",
   "name": "python",
   "nbconvert_exporter": "python",
   "pygments_lexer": "ipython3",
   "version": "3.9.12"
  }
 },
 "nbformat": 4,
 "nbformat_minor": 5
}
